{
 "cells": [
  {
   "cell_type": "markdown",
   "id": "53215941",
   "metadata": {},
   "source": [
    "# 如何使用 Keras input_dim 和 input_shape\n",
    "\n",
    "原文：[How to find the value for keras input_shape/input_dim?](https://www.machinecurve.com/index.php/2020/04/05/how-to-find-the-value-for-keras-input_shape-input_dim/)"
   ]
  },
  {
   "cell_type": "code",
   "execution_count": 1,
   "id": "7dbaf25e",
   "metadata": {},
   "outputs": [],
   "source": [
    "import os\n",
    "\n",
    "os.environ[\"http_proxy\"] = \"http://127.0.0.1:1081\"\n",
    "os.environ[\"https_proxy\"] = \"http://127.0.0.1:1081\""
   ]
  },
  {
   "cell_type": "code",
   "execution_count": 2,
   "id": "49ad4518",
   "metadata": {},
   "outputs": [],
   "source": [
    "from tensorflow.keras.datasets import mnist\n",
    "\n",
    "(x_train, y_train), (x_test, y_test) = mnist.load_data()"
   ]
  },
  {
   "cell_type": "code",
   "execution_count": 3,
   "id": "e74c8243",
   "metadata": {},
   "outputs": [
    {
     "name": "stdout",
     "output_type": "stream",
     "text": [
      "Dataset Shape: (60000, 28, 28)\n",
      "Sample Shape: (28, 28, 1)\n"
     ]
    }
   ],
   "source": [
    "train_set_shape = x_train.shape\n",
    "number_of_channels = 1\n",
    "sample_shape = (train_set_shape[1], train_set_shape[2], number_of_channels)\n",
    "print(\"Dataset Shape:\", train_set_shape)\n",
    "print(\"Sample Shape:\", sample_shape)"
   ]
  },
  {
   "cell_type": "code",
   "execution_count": null,
   "id": "19df8028",
   "metadata": {
    "scrolled": true
   },
   "outputs": [
    {
     "name": "stdout",
     "output_type": "stream",
     "text": [
      "Metal device set to: Apple M1 Pro\n",
      "Model: \"sequential\"\n",
      "_________________________________________________________________\n",
      " Layer (type)                Output Shape              Param #   \n",
      "=================================================================\n",
      " conv2d (Conv2D)             (None, 30, 30, 32)        896       \n",
      "                                                                 \n",
      " conv2d_1 (Conv2D)           (None, 28, 28, 64)        18496     \n",
      "                                                                 \n",
      " conv2d_2 (Conv2D)           (None, 26, 26, 128)       73856     \n",
      "                                                                 \n",
      " flatten (Flatten)           (None, 86528)             0         \n",
      "                                                                 \n",
      " dense (Dense)               (None, 128)               11075712  \n",
      "                                                                 \n",
      " dense_1 (Dense)             (None, 10)                1290      \n",
      "                                                                 \n",
      "=================================================================\n",
      "Total params: 11,170,250\n",
      "Trainable params: 11,170,250\n",
      "Non-trainable params: 0\n",
      "_________________________________________________________________\n"
     ]
    },
    {
     "name": "stderr",
     "output_type": "stream",
     "text": [
      "2022-01-27 15:33:26.462337: I tensorflow/core/common_runtime/pluggable_device/pluggable_device_factory.cc:305] Could not identify NUMA node of platform GPU ID 0, defaulting to 0. Your kernel may not have been built with NUMA support.\n",
      "2022-01-27 15:33:26.462463: I tensorflow/core/common_runtime/pluggable_device/pluggable_device_factory.cc:271] Created TensorFlow device (/job:localhost/replica:0/task:0/device:GPU:0 with 0 MB memory) -> physical PluggableDevice (device: 0, name: METAL, pci bus id: <undefined>)\n",
      "2022-01-27 15:33:26.981986: W tensorflow/core/platform/profile_utils/cpu_utils.cc:128] Failed to get CPU frequency: 0 Hz\n",
      "2022-01-27 15:33:27.119338: I tensorflow/core/grappler/optimizers/custom_graph_optimizer_registry.cc:112] Plugin optimizer for device_type GPU is enabled.\n"
     ]
    },
    {
     "name": "stdout",
     "output_type": "stream",
     "text": [
      "Epoch 1/25\n",
      "800/800 [==============================] - ETA: 0s - loss: 1.4282 - accuracy: 0.4911"
     ]
    },
    {
     "name": "stderr",
     "output_type": "stream",
     "text": [
      "2022-01-27 15:34:00.037729: I tensorflow/core/grappler/optimizers/custom_graph_optimizer_registry.cc:112] Plugin optimizer for device_type GPU is enabled.\n"
     ]
    },
    {
     "name": "stdout",
     "output_type": "stream",
     "text": [
      "800/800 [==============================] - 39s 46ms/step - loss: 1.4282 - accuracy: 0.4911 - val_loss: 1.1523 - val_accuracy: 0.5944\n",
      "Epoch 2/25\n",
      "800/800 [==============================] - 36s 45ms/step - loss: 0.9810 - accuracy: 0.6558 - val_loss: 1.0099 - val_accuracy: 0.6474\n",
      "Epoch 3/25\n",
      "800/800 [==============================] - 36s 46ms/step - loss: 0.7187 - accuracy: 0.7496 - val_loss: 0.9596 - val_accuracy: 0.6789\n",
      "Epoch 4/25\n",
      "800/800 [==============================] - 36s 45ms/step - loss: 0.4531 - accuracy: 0.8439 - val_loss: 1.0783 - val_accuracy: 0.6759\n",
      "Epoch 5/25\n",
      "800/800 [==============================] - 36s 45ms/step - loss: 0.2177 - accuracy: 0.9261 - val_loss: 1.3847 - val_accuracy: 0.6687\n",
      "Epoch 6/25\n",
      "800/800 [==============================] - 36s 45ms/step - loss: 0.1107 - accuracy: 0.9626 - val_loss: 1.6338 - val_accuracy: 0.6462\n",
      "Epoch 7/25\n",
      "800/800 [==============================] - 36s 45ms/step - loss: 0.0830 - accuracy: 0.9727 - val_loss: 1.8934 - val_accuracy: 0.6534\n",
      "Epoch 8/25\n",
      "800/800 [==============================] - 36s 46ms/step - loss: 0.0630 - accuracy: 0.9797 - val_loss: 2.2967 - val_accuracy: 0.6487\n",
      "Epoch 9/25\n",
      "800/800 [==============================] - 36s 45ms/step - loss: 0.0570 - accuracy: 0.9810 - val_loss: 2.5013 - val_accuracy: 0.6384\n",
      "Epoch 10/25\n",
      "800/800 [==============================] - 36s 45ms/step - loss: 0.0585 - accuracy: 0.9803 - val_loss: 2.3249 - val_accuracy: 0.6385\n",
      "Epoch 11/25\n",
      "800/800 [==============================] - 36s 45ms/step - loss: 0.0531 - accuracy: 0.9829 - val_loss: 2.5106 - val_accuracy: 0.6383\n",
      "Epoch 12/25\n",
      "800/800 [==============================] - 36s 45ms/step - loss: 0.0464 - accuracy: 0.9847 - val_loss: 2.7285 - val_accuracy: 0.6454\n",
      "Epoch 13/25\n",
      "800/800 [==============================] - 36s 45ms/step - loss: 0.0457 - accuracy: 0.9848 - val_loss: 2.6858 - val_accuracy: 0.6325\n",
      "Epoch 14/25\n",
      "800/800 [==============================] - 36s 45ms/step - loss: 0.0473 - accuracy: 0.9854 - val_loss: 2.7039 - val_accuracy: 0.6429\n",
      "Epoch 15/25\n",
      "800/800 [==============================] - 36s 45ms/step - loss: 0.0402 - accuracy: 0.9869 - val_loss: 3.0475 - val_accuracy: 0.6339\n",
      "Epoch 16/25\n",
      "800/800 [==============================] - 36s 45ms/step - loss: 0.0388 - accuracy: 0.9873 - val_loss: 3.0647 - val_accuracy: 0.6464\n",
      "Epoch 17/25\n",
      "800/800 [==============================] - 36s 45ms/step - loss: 0.0320 - accuracy: 0.9898 - val_loss: 2.9633 - val_accuracy: 0.6307\n",
      "Epoch 18/25\n",
      "800/800 [==============================] - 36s 45ms/step - loss: 0.0364 - accuracy: 0.9886 - val_loss: 3.3237 - val_accuracy: 0.6466\n",
      "Epoch 19/25\n",
      "800/800 [==============================] - 36s 45ms/step - loss: 0.0369 - accuracy: 0.9888 - val_loss: 3.2540 - val_accuracy: 0.6493\n",
      "Epoch 20/25\n",
      "800/800 [==============================] - 36s 46ms/step - loss: 0.0397 - accuracy: 0.9878 - val_loss: 3.0923 - val_accuracy: 0.6417\n",
      "Epoch 21/25\n",
      "800/800 [==============================] - 36s 45ms/step - loss: 0.0330 - accuracy: 0.9901 - val_loss: 3.4257 - val_accuracy: 0.6425\n",
      "Epoch 22/25\n",
      "800/800 [==============================] - 36s 45ms/step - loss: 0.0285 - accuracy: 0.9908 - val_loss: 3.5136 - val_accuracy: 0.6276\n",
      "Epoch 23/25\n",
      "715/800 [=========================>....] - ETA: 3s - loss: 0.0240 - accuracy: 0.9929"
     ]
    }
   ],
   "source": [
    "import tensorflow as tf\n",
    "from tensorflow.keras.datasets import cifar10\n",
    "from tensorflow.keras.models import Sequential\n",
    "from tensorflow.keras.layers import Dense, Flatten, Conv2D, Dropout, BatchNormalization, MaxPool2D\n",
    "from tensorflow.keras.losses import sparse_categorical_crossentropy\n",
    "from tensorflow.keras.optimizers import Adam\n",
    "\n",
    "# Model Configuration\n",
    "batch_size = 50\n",
    "img_width, img_height, img_num_channels = 32, 32, 3\n",
    "loss_function = sparse_categorical_crossentropy\n",
    "no_classes = 10\n",
    "no_epochs = 25\n",
    "optimizer = Adam()\n",
    "validation_split = 0.2\n",
    "verbosity = 1\n",
    "\n",
    "# Load CIFAR-10 Data\n",
    "(input_train, target_train), (input_test, target_test) = cifar10.load_data()\n",
    "\n",
    "# Determine shape of the data\n",
    "input_shape = (img_width, img_height, img_num_channels)\n",
    "\n",
    "# Parse numbers as floats\n",
    "input_train = input_train.astype('float32')\n",
    "input_test = input_test.astype('float32')\n",
    "\n",
    "# Scale data\n",
    "input_train = input_train / 255\n",
    "input_test = input_test / 255\n",
    "\n",
    "# Create the model\n",
    "model = Sequential()\n",
    "model.add(\n",
    "    Conv2D(32, kernel_size=(3, 3), activation='relu', input_shape=input_shape))\n",
    "model.add(Conv2D(64, kernel_size=(3, 3), activation='relu'))\n",
    "model.add(Conv2D(128, kernel_size=(3, 3), activation='relu'))\n",
    "model.add(Flatten())\n",
    "model.add(Dense(128, activation='relu'))\n",
    "model.add(Dense(no_classes, activation='softmax'))\n",
    "\n",
    "# Display a model summary\n",
    "model.summary()\n",
    "\n",
    "# Compile the model\n",
    "model.compile(loss=loss_function, optimizer=optimizer, metrics=['accuracy'])\n",
    "\n",
    "# Fit data to model\n",
    "history = model.fit(input_train,\n",
    "                    target_train,\n",
    "                    batch_size=batch_size,\n",
    "                    epochs=no_epochs,\n",
    "                    verbose=verbosity,\n",
    "                    validation_split=validation_split)\n",
    "\n",
    "# Generate generalization metrics\n",
    "score = model.evaluate(input_test, target_test, verbose=0)\n",
    "print(f'Test loss: {score[0]} / Test accuracy: {score[1]}')"
   ]
  },
  {
   "cell_type": "code",
   "execution_count": null,
   "id": "611e9ea3",
   "metadata": {},
   "outputs": [],
   "source": []
  }
 ],
 "metadata": {
  "kernelspec": {
   "display_name": "Python 3 (ipykernel)",
   "language": "python",
   "name": "python3"
  },
  "language_info": {
   "codemirror_mode": {
    "name": "ipython",
    "version": 3
   },
   "file_extension": ".py",
   "mimetype": "text/x-python",
   "name": "python",
   "nbconvert_exporter": "python",
   "pygments_lexer": "ipython3",
   "version": "3.9.9"
  }
 },
 "nbformat": 4,
 "nbformat_minor": 5
}
