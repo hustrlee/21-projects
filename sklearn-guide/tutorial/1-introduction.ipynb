{
 "cells": [
  {
   "cell_type": "markdown",
   "metadata": {},
   "source": [
    "# 使用 scikit-learn 进行机器学习简介\n",
    "\n",
    "**内容提要：**\n",
    "\n",
    "本节我们介绍在整个 scikit-learn 中使用的机器学习专业词汇，并给出一个简单的学习示例。"
   ]
  },
  {
   "cell_type": "markdown",
   "metadata": {},
   "source": [
    "## 机器学习：问题设定\n",
    "\n",
    "**名词：**\n",
    "\n",
    "- feature/attribute\n",
    "- supervised learning：监督学习\n",
    "    - classification：分类问题\n",
    "    - regression：回归问题\n",
    "- unsupervised learning：非监督学习\n",
    "    - clustering：聚类\n",
    "    - density estimation：密度估计\n",
    "    - dimention reduction：降维\n",
    "- training set：训练集\n",
    "- testing set：测试集"
   ]
  },
  {
   "cell_type": "markdown",
   "metadata": {},
   "source": [
    "## 载入一个示例数据集\n",
    "\n",
    "`scikit-learn` 包含了一些标准数据集，例如：用于分类问题的 `iris` 和 `digits` 数据集；用于回归问题的 `diabetes` 数据集。"
   ]
  },
  {
   "cell_type": "code",
   "execution_count": 4,
   "metadata": {},
   "outputs": [
    {
     "name": "stdout",
     "output_type": "stream",
     "text": [
      "digits.data:\n",
      "[[ 0.  0.  5. ...  0.  0.  0.]\n",
      " [ 0.  0.  0. ... 10.  0.  0.]\n",
      " [ 0.  0.  0. ... 16.  9.  0.]\n",
      " ...\n",
      " [ 0.  0.  1. ...  6.  0.  0.]\n",
      " [ 0.  0.  2. ... 12.  0.  0.]\n",
      " [ 0.  0. 10. ... 12.  1.  0.]]\n",
      "digits.target:\n",
      "[0 1 2 ... 8 9 8]\n",
      "digits.images[0]:\n",
      "[[ 0.  0.  5. 13.  9.  1.  0.  0.]\n",
      " [ 0.  0. 13. 15. 10. 15.  5.  0.]\n",
      " [ 0.  3. 15.  2.  0. 11.  8.  0.]\n",
      " [ 0.  4. 12.  0.  0.  8.  8.  0.]\n",
      " [ 0.  5.  8.  0.  0.  9.  8.  0.]\n",
      " [ 0.  4. 11.  0.  1. 12.  7.  0.]\n",
      " [ 0.  2. 14.  5. 10. 12.  0.  0.]\n",
      " [ 0.  0.  6. 13. 10.  0.  0.  0.]]\n",
      "digits.data.shape: (1797, 64)\n",
      "digits.images.shape: (1797, 8, 8)\n"
     ]
    }
   ],
   "source": [
    "# 载入 iris 和 digits 数据集\n",
    "from sklearn.datasets import load_iris, load_digits\n",
    "\n",
    "iris = load_iris()\n",
    "digits = load_digits()\n",
    "\n",
    "print(\"digits.data:\")\n",
    "print(digits.data)\n",
    "print(\"digits.target:\")\n",
    "print(digits.target)\n",
    "print(\"digits.images[0]:\")\n",
    "print(digits.images[0])\n",
    "\n",
    "print(\"digits.data.shape:\", digits.data.shape)\n",
    "print(\"digits.images.shape:\", digits.images.shape)"
   ]
  },
  {
   "cell_type": "markdown",
   "metadata": {},
   "source": [
    "## 学习和预测（Learning and Predicting）\n",
    "\n",
    "**名词：**\n",
    "\n",
    "- fit：训练\n",
    "- predict：预测"
   ]
  },
  {
   "cell_type": "code",
   "execution_count": 9,
   "metadata": {},
   "outputs": [
    {
     "data": {
      "text/plain": [
       "array([8])"
      ]
     },
     "execution_count": 9,
     "metadata": {},
     "output_type": "execute_result"
    }
   ],
   "source": [
    "from sklearn.svm import SVC\n",
    "\n",
    "clf = SVC(gamma=0.001, C=100.)\n",
    "\n",
    "# 使用除了最后一个样本的数据集来进行训练\n",
    "clf.fit(digits.data[:-1], digits.target[:-1])\n",
    "\n",
    "# 预测数据集中的最后一个样本，结果应该是：8\n",
    "clf.predict(digits.data[-1:])"
   ]
  },
  {
   "cell_type": "markdown",
   "metadata": {},
   "source": [
    "> 在这个例子中，我们手动设置了 `gamma` 参数。要搜索参数的最佳取值，我们可以使用诸如 `grid search` 和 `cross validation` 的工具。"
   ]
  },
  {
   "cell_type": "markdown",
   "metadata": {},
   "source": [
    "## 约定（Conventions）"
   ]
  },
  {
   "cell_type": "markdown",
   "metadata": {},
   "source": []
  }
 ],
 "metadata": {
  "interpreter": {
   "hash": "4e27c2da514be0f4555df3a4c15a4c6256ef40203ad64abea68e2343d203af1e"
  },
  "kernelspec": {
   "display_name": "Python 3.9.7 64-bit ('ml': conda)",
   "language": "python",
   "name": "python3"
  },
  "language_info": {
   "codemirror_mode": {
    "name": "ipython",
    "version": 3
   },
   "file_extension": ".py",
   "mimetype": "text/x-python",
   "name": "python",
   "nbconvert_exporter": "python",
   "pygments_lexer": "ipython3",
   "version": "3.9.7"
  },
  "orig_nbformat": 4
 },
 "nbformat": 4,
 "nbformat_minor": 2
}
