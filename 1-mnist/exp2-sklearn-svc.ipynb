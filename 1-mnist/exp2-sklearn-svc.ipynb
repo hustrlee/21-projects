{
 "cells": [
  {
   "cell_type": "markdown",
   "id": "a96cd2b6",
   "metadata": {},
   "source": [
    "# exp2：基于 sklearn-SVM 的手写体数字识别\n",
    "----"
   ]
  },
  {
   "cell_type": "markdown",
   "id": "03cff8d6",
   "metadata": {},
   "source": [
    "## 载入训练和测试数据"
   ]
  },
  {
   "cell_type": "code",
   "execution_count": null,
   "id": "35093600",
   "metadata": {},
   "outputs": [],
   "source": [
    "import tensorflow_datasets as tfds\n",
    "\n",
    "mnist_train, mnist_info = tfds.load(name=\"mnist\", split=\"train\", data_dir=\"./mnist_data/\", with_info=True)\n",
    "mnist_test = tfds.load(name=\"mnist\", split=\"test\", data_dir=\"./mnist_data/\")\n",
    "\n",
    "# 将 tf.data.Dataset 格式转换成 pd.dataframe 格式\n",
    "mnist_train = tfds.as_dataframe(mnist_train, mnist_info)\n",
    "mnist_test = tfds.as_dataframe(mnist_test, mnist_info)\n",
    "\n",
    "mnist_train[\"image\"] = mnist_train[\"image\"].map(lambda x: x.reshape(-1))\n",
    "mnist_test[\"image\"] = mnist_test[\"image\"].map(lambda x: x.reshape(-1))\n",
    "\n",
    "# 将 pd.dataframe 格式数据分解成 X_train, Y_train, x_test, y_test\n",
    "X_train, y_train = list(mnist_train[\"image\"]), list(mnist_train[\"label\"])\n",
    "X_test, y_test = list(mnist_test[\"image\"]), list(mnist_test[\"label\"])\n"
   ]
  },
  {
   "cell_type": "code",
   "execution_count": null,
   "id": "fcf1ed70",
   "metadata": {},
   "outputs": [],
   "source": [
    "# 将图像数据进行标准化\n",
    "from sklearn.preprocessing import StandardScaler\n",
    "\n",
    "ss = StandardScaler()\n",
    "X_train = ss.fit_transform(X_train)\n",
    "X_test = ss.transform(X_test)"
   ]
  },
  {
   "cell_type": "markdown",
   "id": "48496cdd",
   "metadata": {},
   "source": [
    "## 使用支持向量机（SVM）对手写体数字进行识别"
   ]
  },
  {
   "cell_type": "code",
   "execution_count": null,
   "id": "21b279ac",
   "metadata": {},
   "outputs": [],
   "source": [
    "from sklearn.svm import LinearSVC\n",
    "\n",
    "lsvc = LinearSVC()\n",
    "lsvc.fit(X_train, y_train)\n",
    "\n",
    "y_predict = lsvc.predict(X_test)\n",
    "print(\"acc:\", lsvc.score(X_test, y_test))"
   ]
  },
  {
   "cell_type": "markdown",
   "id": "4087b6ef",
   "metadata": {},
   "source": [
    "## 对 SVM 的性能进行评估"
   ]
  },
  {
   "cell_type": "code",
   "execution_count": null,
   "id": "a34e19e4",
   "metadata": {},
   "outputs": [],
   "source": [
    "from sklearn.metrics import classification_report\n",
    "\n",
    "print(classification_report(y_test, y_predict))"
   ]
  }
 ],
 "metadata": {
  "kernelspec": {
   "display_name": "Python 3 (ipykernel)",
   "language": "python",
   "name": "python3"
  },
  "language_info": {
   "codemirror_mode": {
    "name": "ipython",
    "version": 3
   },
   "file_extension": ".py",
   "mimetype": "text/x-python",
   "name": "python",
   "nbconvert_exporter": "python",
   "pygments_lexer": "ipython3",
   "version": "3.9.9"
  }
 },
 "nbformat": 4,
 "nbformat_minor": 5
}
