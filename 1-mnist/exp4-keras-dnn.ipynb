{
 "cells": [
  {
   "cell_type": "code",
   "execution_count": 1,
   "id": "1006d1ed",
   "metadata": {},
   "outputs": [
    {
     "name": "stderr",
     "output_type": "stream",
     "text": [
      "2022-01-27 15:49:14.002632: I tensorflow/core/common_runtime/pluggable_device/pluggable_device_factory.cc:305] Could not identify NUMA node of platform GPU ID 0, defaulting to 0. Your kernel may not have been built with NUMA support.\n",
      "2022-01-27 15:49:14.002743: I tensorflow/core/common_runtime/pluggable_device/pluggable_device_factory.cc:271] Created TensorFlow device (/job:localhost/replica:0/task:0/device:GPU:0 with 0 MB memory) -> physical PluggableDevice (device: 0, name: METAL, pci bus id: <undefined>)\n",
      "2022-01-27 15:49:14.034735: W tensorflow/core/platform/profile_utils/cpu_utils.cc:128] Failed to get CPU frequency: 0 Hz\n"
     ]
    },
    {
     "name": "stdout",
     "output_type": "stream",
     "text": [
      "Metal device set to: Apple M1 Pro\n"
     ]
    }
   ],
   "source": [
    "import tensorflow_datasets as tfds\n",
    "import numpy as np\n",
    "\n",
    "mnist_train, train_info = tfds.load(name=\"mnist\", split=\"train\", data_dir=\"./mnist_data/\", with_info=True)\n",
    "mnist_test, test_info = tfds.load(name=\"mnist\", split=\"test\", data_dir=\"./mnist_data/\", with_info=True)\n",
    "\n",
    "mnist_train = tfds.as_numpy(mnist_train)\n",
    "mnist_test = tfds.as_numpy(mnist_test)\n",
    "\n",
    "def value_to_array(index: int, dim: int = 10) -> np.ndarray:\n",
    "    assert index < dim, \"index 必须小于 dim\"\n",
    "    res = np.zeros(dim, dtype=np.double)\n",
    "    res[index] = 1\n",
    "    return res\n",
    "\n",
    "X_train = np.array([el[\"image\"].flatten() for el in mnist_train], dtype=np.double)\n",
    "y_train = np.array([value_to_array(el[\"label\"]) for el in mnist_train], dtype=np.double)\n",
    "X_test = np.array([el[\"image\"].flatten() for el in mnist_test], dtype=np.double)\n",
    "y_test = np.array([value_to_array(el[\"label\"]) for el in mnist_test], dtype=np.double)"
   ]
  },
  {
   "cell_type": "code",
   "execution_count": 2,
   "id": "d83558e1",
   "metadata": {},
   "outputs": [
    {
     "name": "stdout",
     "output_type": "stream",
     "text": [
      "Model: \"sequential\"\n",
      "_________________________________________________________________\n",
      " Layer (type)                Output Shape              Param #   \n",
      "=================================================================\n",
      " dense (Dense)               (None, 64)                50240     \n",
      "                                                                 \n",
      " dense_1 (Dense)             (None, 10)                650       \n",
      "                                                                 \n",
      "=================================================================\n",
      "Total params: 50,890\n",
      "Trainable params: 50,890\n",
      "Non-trainable params: 0\n",
      "_________________________________________________________________\n"
     ]
    }
   ],
   "source": [
    "from tensorflow.keras.models import Sequential\n",
    "from tensorflow.keras.layers import Dense\n",
    "import tensorflow as tf\n",
    "\n",
    "model = Sequential()\n",
    "model.add(Dense(units=64, activation=\"relu\", input_dim=784))\n",
    "model.add(Dense(units=10, activation=\"softmax\"))\n",
    "\n",
    "model.compile(loss=\"categorical_crossentropy\",\n",
    "              optimizer=tf.keras.optimizers.Adam(),\n",
    "              metrics=['accuracy'])\n",
    "\n",
    "model.summary()"
   ]
  },
  {
   "cell_type": "code",
   "execution_count": null,
   "id": "2d3a226b",
   "metadata": {},
   "outputs": [
    {
     "name": "stdout",
     "output_type": "stream",
     "text": [
      "Epoch 1/20\n",
      "   1/1500 [..............................] - ETA: 7:12 - loss: 144.0690 - accuracy: 0.1250"
     ]
    },
    {
     "name": "stderr",
     "output_type": "stream",
     "text": [
      "2022-01-27 15:49:23.408752: I tensorflow/core/grappler/optimizers/custom_graph_optimizer_registry.cc:112] Plugin optimizer for device_type GPU is enabled.\n"
     ]
    },
    {
     "name": "stdout",
     "output_type": "stream",
     "text": [
      "1494/1500 [============================>.] - ETA: 0s - loss: 2.3054 - accuracy: 0.7455"
     ]
    },
    {
     "name": "stderr",
     "output_type": "stream",
     "text": [
      "2022-01-27 15:49:32.029221: I tensorflow/core/grappler/optimizers/custom_graph_optimizer_registry.cc:112] Plugin optimizer for device_type GPU is enabled.\n"
     ]
    },
    {
     "name": "stdout",
     "output_type": "stream",
     "text": [
      "1500/1500 [==============================] - 10s 7ms/step - loss: 2.2983 - accuracy: 0.7460 - val_loss: 0.6603 - val_accuracy: 0.8443\n",
      "Epoch 2/20\n",
      "1500/1500 [==============================] - 10s 7ms/step - loss: 0.5055 - accuracy: 0.8667 - val_loss: 0.5058 - val_accuracy: 0.8775\n",
      "Epoch 3/20\n",
      "1500/1500 [==============================] - 10s 7ms/step - loss: 0.3775 - accuracy: 0.8980 - val_loss: 0.5048 - val_accuracy: 0.8901\n",
      "Epoch 4/20\n",
      "1500/1500 [==============================] - 10s 7ms/step - loss: 0.3072 - accuracy: 0.9152 - val_loss: 0.3172 - val_accuracy: 0.9159\n",
      "Epoch 5/20\n",
      "1500/1500 [==============================] - 10s 7ms/step - loss: 0.2799 - accuracy: 0.9227 - val_loss: 0.3246 - val_accuracy: 0.9183\n",
      "Epoch 6/20\n",
      "1500/1500 [==============================] - 10s 7ms/step - loss: 0.2631 - accuracy: 0.9271 - val_loss: 0.2793 - val_accuracy: 0.9325\n",
      "Epoch 7/20\n",
      "1500/1500 [==============================] - 10s 7ms/step - loss: 0.2449 - accuracy: 0.9322 - val_loss: 0.2988 - val_accuracy: 0.9312\n",
      "Epoch 8/20\n",
      "1500/1500 [==============================] - 10s 7ms/step - loss: 0.2326 - accuracy: 0.9362 - val_loss: 0.3170 - val_accuracy: 0.9187\n",
      "Epoch 9/20\n",
      "1500/1500 [==============================] - 10s 7ms/step - loss: 0.2226 - accuracy: 0.9381 - val_loss: 0.3068 - val_accuracy: 0.9245\n",
      "Epoch 10/20\n",
      "1500/1500 [==============================] - 10s 7ms/step - loss: 0.2173 - accuracy: 0.9409 - val_loss: 0.2984 - val_accuracy: 0.9297\n",
      "Epoch 11/20\n",
      " 254/1500 [====>.........................] - ETA: 7s - loss: 0.1903 - accuracy: 0.9460"
     ]
    }
   ],
   "source": [
    "model.fit(X_train, y_train, epochs=20, batch_size=32, validation_split=0.2)"
   ]
  },
  {
   "cell_type": "code",
   "execution_count": 4,
   "id": "d315f075",
   "metadata": {},
   "outputs": [
    {
     "name": "stdout",
     "output_type": "stream",
     "text": [
      "313/313 [==============================] - 0s 420us/step - loss: 0.3711 - accuracy: 0.9362\n"
     ]
    }
   ],
   "source": [
    "loss_and_metrics = model.evaluate(X_test, y_test, batch_size=32)"
   ]
  },
  {
   "cell_type": "code",
   "execution_count": null,
   "id": "c0091a3b",
   "metadata": {},
   "outputs": [],
   "source": []
  }
 ],
 "metadata": {
  "kernelspec": {
   "display_name": "Python 3 (ipykernel)",
   "language": "python",
   "name": "python3"
  },
  "language_info": {
   "codemirror_mode": {
    "name": "ipython",
    "version": 3
   },
   "file_extension": ".py",
   "mimetype": "text/x-python",
   "name": "python",
   "nbconvert_exporter": "python",
   "pygments_lexer": "ipython3",
   "version": "3.9.9"
  }
 },
 "nbformat": 4,
 "nbformat_minor": 5
}
