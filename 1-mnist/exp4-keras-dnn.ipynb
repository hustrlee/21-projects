{
 "cells": [
  {
   "cell_type": "code",
   "execution_count": 2,
   "id": "1006d1ed",
   "metadata": {},
   "outputs": [],
   "source": [
    "import tensorflow_datasets as tfds\n",
    "import numpy as np\n",
    "\n",
    "mnist_train, train_info = tfds.load(name=\"mnist\", split=\"train\", data_dir=\"./mnist_data/\", with_info=True)\n",
    "mnist_test, test_info = tfds.load(name=\"mnist\", split=\"test\", data_dir=\"./mnist_data/\", with_info=True)\n",
    "\n",
    "mnist_train = tfds.as_numpy(mnist_train)\n",
    "mnist_test = tfds.as_numpy(mnist_test)\n",
    "\n",
    "def value_to_array(index: int, dim: int = 10) -> np.ndarray:\n",
    "    assert index < dim, \"index 必须小于 dim\"\n",
    "    res = np.zeros(dim, dtype=np.double)\n",
    "    res[index] = 1\n",
    "    return res\n",
    "\n",
    "X_train = np.array([el[\"image\"].flatten() for el in mnist_train], dtype=np.double)\n",
    "y_train = np.array([value_to_array(el[\"label\"]) for el in mnist_train], dtype=np.double)\n",
    "X_test = np.array([el[\"image\"].flatten() for el in mnist_test], dtype=np.double)\n",
    "y_test = np.array([value_to_array(el[\"label\"]) for el in mnist_test], dtype=np.double)"
   ]
  },
  {
   "cell_type": "code",
   "execution_count": 29,
   "id": "d83558e1",
   "metadata": {},
   "outputs": [
    {
     "name": "stdout",
     "output_type": "stream",
     "text": [
      "Model: \"sequential_11\"\n",
      "_________________________________________________________________\n",
      " Layer (type)                Output Shape              Param #   \n",
      "=================================================================\n",
      " dense_22 (Dense)            (None, 64)                50240     \n",
      "                                                                 \n",
      " dense_23 (Dense)            (None, 10)                650       \n",
      "                                                                 \n",
      "=================================================================\n",
      "Total params: 50,890\n",
      "Trainable params: 50,890\n",
      "Non-trainable params: 0\n",
      "_________________________________________________________________\n"
     ]
    }
   ],
   "source": [
    "from keras.models import Sequential\n",
    "from keras.layers import Dense\n",
    "import tensorflow as tf\n",
    "\n",
    "model = Sequential()\n",
    "model.add(Dense(units=64, activation=\"relu\", input_dim=784))\n",
    "model.add(Dense(units=10, activation=\"softmax\"))\n",
    "\n",
    "model.compile(loss=\"categorical_crossentropy\",\n",
    "              optimizer=tf.keras.optimizers.Adam(),\n",
    "              metrics=['accuracy'])\n",
    "\n",
    "model.summary()"
   ]
  },
  {
   "cell_type": "code",
   "execution_count": 33,
   "id": "2d3a226b",
   "metadata": {},
   "outputs": [
    {
     "name": "stdout",
     "output_type": "stream",
     "text": [
      "Epoch 1/20\n",
      "1875/1875 [==============================] - 1s 789us/step - loss: 0.2077 - accuracy: 0.9452\n",
      "Epoch 2/20\n",
      "1875/1875 [==============================] - 1s 761us/step - loss: 0.2000 - accuracy: 0.9474\n",
      "Epoch 3/20\n",
      "1875/1875 [==============================] - 1s 750us/step - loss: 0.2003 - accuracy: 0.9485\n",
      "Epoch 4/20\n",
      "1875/1875 [==============================] - 2s 935us/step - loss: 0.1991 - accuracy: 0.9471\n",
      "Epoch 5/20\n",
      "1875/1875 [==============================] - 2s 855us/step - loss: 0.1991 - accuracy: 0.9488\n",
      "Epoch 6/20\n",
      "1875/1875 [==============================] - 2s 811us/step - loss: 0.1917 - accuracy: 0.9501\n",
      "Epoch 7/20\n",
      "1875/1875 [==============================] - 1s 783us/step - loss: 0.1874 - accuracy: 0.9496\n",
      "Epoch 8/20\n",
      "1875/1875 [==============================] - 1s 780us/step - loss: 0.1878 - accuracy: 0.9520\n",
      "Epoch 9/20\n",
      "1875/1875 [==============================] - 1s 785us/step - loss: 0.1893 - accuracy: 0.9508\n",
      "Epoch 10/20\n",
      "1875/1875 [==============================] - 2s 867us/step - loss: 0.1832 - accuracy: 0.9518\n",
      "Epoch 11/20\n",
      "1875/1875 [==============================] - 1s 789us/step - loss: 0.1808 - accuracy: 0.9530\n",
      "Epoch 12/20\n",
      "1875/1875 [==============================] - 2s 826us/step - loss: 0.1822 - accuracy: 0.9525\n",
      "Epoch 13/20\n",
      "1875/1875 [==============================] - 1s 776us/step - loss: 0.1794 - accuracy: 0.9533\n",
      "Epoch 14/20\n",
      "1875/1875 [==============================] - 2s 986us/step - loss: 0.1797 - accuracy: 0.9538\n",
      "Epoch 15/20\n",
      "1875/1875 [==============================] - 2s 883us/step - loss: 0.1766 - accuracy: 0.9532\n",
      "Epoch 16/20\n",
      "1875/1875 [==============================] - 2s 828us/step - loss: 0.1782 - accuracy: 0.9523\n",
      "Epoch 17/20\n",
      "1875/1875 [==============================] - 2s 880us/step - loss: 0.1764 - accuracy: 0.9547\n",
      "Epoch 18/20\n",
      "1875/1875 [==============================] - 2s 875us/step - loss: 0.1720 - accuracy: 0.9554\n",
      "Epoch 19/20\n",
      "1875/1875 [==============================] - 2s 864us/step - loss: 0.1768 - accuracy: 0.9543\n",
      "Epoch 20/20\n",
      "1875/1875 [==============================] - 2s 916us/step - loss: 0.1728 - accuracy: 0.9550\n"
     ]
    },
    {
     "data": {
      "text/plain": [
       "<keras.callbacks.History at 0x1b4899940>"
      ]
     },
     "execution_count": 33,
     "metadata": {},
     "output_type": "execute_result"
    }
   ],
   "source": [
    "model.fit(X_train, y_train, epochs=20)"
   ]
  },
  {
   "cell_type": "code",
   "execution_count": 34,
   "id": "d315f075",
   "metadata": {},
   "outputs": [
    {
     "name": "stdout",
     "output_type": "stream",
     "text": [
      "313/313 [==============================] - 0s 703us/step - loss: 0.4139 - accuracy: 0.9305\n"
     ]
    }
   ],
   "source": [
    "loss_and_metrics = model.evaluate(X_test, y_test, batch_size=32)"
   ]
  }
 ],
 "metadata": {
  "kernelspec": {
   "display_name": "Python 3 (ipykernel)",
   "language": "python",
   "name": "python3"
  },
  "language_info": {
   "codemirror_mode": {
    "name": "ipython",
    "version": 3
   },
   "file_extension": ".py",
   "mimetype": "text/x-python",
   "name": "python",
   "nbconvert_exporter": "python",
   "pygments_lexer": "ipython3",
   "version": "3.9.9"
  }
 },
 "nbformat": 4,
 "nbformat_minor": 5
}
