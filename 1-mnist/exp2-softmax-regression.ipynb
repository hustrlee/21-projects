{
 "cells": [
  {
   "cell_type": "markdown",
   "id": "15216713",
   "metadata": {},
   "source": [
    "# 实验：使用 Softmax 回归识别手写数字"
   ]
  },
  {
   "cell_type": "code",
   "execution_count": 3,
   "id": "ceaa1045",
   "metadata": {},
   "outputs": [],
   "source": [
    "import tensorflow_datasets as tfds\n",
    "\n",
    "mnist_train = tfds.load(name=\"mnist\", split=\"train\", data_dir=\"./mnist_data/\")\n",
    "mnist_test, info = tfds.load(name=\"mnist\", split=\"test\", data_dir=\"./mnist_data/\", with_info=True)"
   ]
  },
  {
   "cell_type": "code",
   "execution_count": 4,
   "id": "43721804",
   "metadata": {},
   "outputs": [
    {
     "name": "stderr",
     "output_type": "stream",
     "text": [
      "2022-01-21 01:28:25.419186: W tensorflow/core/platform/profile_utils/cpu_utils.cc:128] Failed to get CPU frequency: 0 Hz\n"
     ]
    }
   ],
   "source": [
    "mnist_test = tfds.as_dataframe(mnist_test)"
   ]
  },
  {
   "cell_type": "code",
   "execution_count": 5,
   "id": "84d709e8",
   "metadata": {},
   "outputs": [
    {
     "name": "stdout",
     "output_type": "stream",
     "text": [
      "                                               image  label\n",
      "0  [[[0], [0], [0], [0], [0], [0], [0], [0], [0],...      2\n",
      "1  [[[0], [0], [0], [0], [0], [0], [0], [0], [0],...      0\n",
      "2  [[[0], [0], [0], [0], [0], [0], [0], [0], [0],...      4\n",
      "3  [[[0], [0], [0], [0], [0], [0], [0], [0], [0],...      8\n",
      "4  [[[0], [0], [0], [0], [0], [0], [0], [0], [0],...      7\n"
     ]
    }
   ],
   "source": [
    "print(mnist_test.head())"
   ]
  },
  {
   "cell_type": "code",
   "execution_count": 6,
   "id": "c980f56b",
   "metadata": {},
   "outputs": [
    {
     "name": "stdout",
     "output_type": "stream",
     "text": [
      "0    [[[0], [0], [0], [0], [0], [0], [0], [0], [0],...\n",
      "1    [[[0], [0], [0], [0], [0], [0], [0], [0], [0],...\n",
      "2    [[[0], [0], [0], [0], [0], [0], [0], [0], [0],...\n",
      "3    [[[0], [0], [0], [0], [0], [0], [0], [0], [0],...\n",
      "4    [[[0], [0], [0], [0], [0], [0], [0], [0], [0],...\n",
      "Name: image, dtype: object\n"
     ]
    }
   ],
   "source": [
    "print(mnist_test[\"image\"][:5])"
   ]
  },
  {
   "cell_type": "code",
   "execution_count": 10,
   "id": "3736db46",
   "metadata": {},
   "outputs": [
    {
     "name": "stdout",
     "output_type": "stream",
     "text": [
      "(10000,)\n"
     ]
    }
   ],
   "source": [
    "print(mnist_test[\"image\"].shape)"
   ]
  }
 ],
 "metadata": {
  "kernelspec": {
   "display_name": "Python 3 (ipykernel)",
   "language": "python",
   "name": "python3"
  },
  "language_info": {
   "codemirror_mode": {
    "name": "ipython",
    "version": 3
   },
   "file_extension": ".py",
   "mimetype": "text/x-python",
   "name": "python",
   "nbconvert_exporter": "python",
   "pygments_lexer": "ipython3",
   "version": "3.9.9"
  }
 },
 "nbformat": 4,
 "nbformat_minor": 5
}
